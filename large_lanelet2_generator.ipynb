{
 "cells": [
  {
   "cell_type": "code",
   "execution_count": 15,
   "id": "e445e899-093d-41b0-9960-04f64fa18386",
   "metadata": {},
   "outputs": [],
   "source": [
    "import numpy as np\n",
    "import lanelet2\n",
    "from lanelet2.core import Lanelet, Point3d, LineString3d\n",
    "from lanelet2.io import write\n",
    "from lanelet2.projection import (UtmProjector, MercatorProjector)"
   ]
  },
  {
   "cell_type": "code",
   "execution_count": 111,
   "id": "99efbf34-6e1a-43b6-b272-a71e03f45a35",
   "metadata": {},
   "outputs": [],
   "source": [
    "init_x = 0\n",
    "y_center = 0\n",
    "y_width = 2\n",
    "d_x = 2\n",
    "prev_node_right = Point3d(lanelet2.core.getId(), init_x, y_center - y_width, 0)\n",
    "prev_node_left = Point3d(lanelet2.core.getId(), init_x, y_center + y_width, 0)\n",
    "\n",
    "lmap = lanelet2.core.LaneletMap()\n",
    "\n",
    "counter = 0\n",
    "while True:\n",
    "    counter += 1\n",
    "    next_node_right = Point3d(lanelet2.core.getId(), init_x + counter * d_x, y_center - y_width, 0)\n",
    "    next_node_left = Point3d(lanelet2.core.getId(), init_x + counter * d_x, y_center + y_width, 0)\n",
    "\n",
    "    way_right = LineString3d(lanelet2.core.getId(), [prev_node_right, next_node_right])\n",
    "    way_left = LineString3d(lanelet2.core.getId(), [prev_node_left, next_node_left])\n",
    "    way_right.attributes['type'] = 'line_thin'\n",
    "    way_right.attributes['subtype'] = 'solid'\n",
    "    way_left.attributes['type'] = 'line_thin'\n",
    "    way_left.attributes['subtype'] = 'solid'\n",
    "\n",
    "    lanelet = Lanelet(lanelet2.core.getId(), way_left, way_right)\n",
    "    lanelet.attributes['type'] = 'lanelet'\n",
    "    lanelet.attributes['subtype'] = 'road'\n",
    "    lanelet.attributes['speed_limit'] = '40'\n",
    "    lanelet.attributes['location'] = 'urban'\n",
    "    lanelet.attributes['one_way'] = 'yes'\n",
    "\n",
    "    lmap.add(lanelet)\n",
    "\n",
    "    prev_node_right = next_node_right\n",
    "    prev_node_left = next_node_left\n",
    "\n",
    "    if counter > 1e6:\n",
    "        break"
   ]
  },
  {
   "cell_type": "code",
   "execution_count": null,
   "id": "7e212014-b0ca-4c86-b70e-aa5743936ff6",
   "metadata": {},
   "outputs": [],
   "source": [
    "output_file = \"/home/minoda/data/maps/dummy-large-map/lanelet2_map.osm\"\n",
    "projector = UtmProjector(lanelet2.io.Origin(35.619010, 139.78035))\n",
    "lanelet2.io.write(output_file, lmap, projector)"
   ]
  },
  {
   "cell_type": "code",
   "execution_count": null,
   "id": "8bb7c1bb-1de1-4d87-bfbc-8bd4428d0ca0",
   "metadata": {},
   "outputs": [],
   "source": []
  }
 ],
 "metadata": {
  "kernelspec": {
   "display_name": "Python 3 (ipykernel)",
   "language": "python",
   "name": "python3"
  },
  "language_info": {
   "codemirror_mode": {
    "name": "ipython",
    "version": 3
   },
   "file_extension": ".py",
   "mimetype": "text/x-python",
   "name": "python",
   "nbconvert_exporter": "python",
   "pygments_lexer": "ipython3",
   "version": "3.10.12"
  }
 },
 "nbformat": 4,
 "nbformat_minor": 5
}
